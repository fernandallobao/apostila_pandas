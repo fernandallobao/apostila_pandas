{
 "cells": [
  {
   "cell_type": "markdown",
   "metadata": {},
   "source": [
    "# Apostila: Introdução à Biblioteca Pandas\n",
    "\n",
    "##  O que é o Pandas?\n",
    "\n",
    "Pandas é uma biblioteca poderosa para manipulação e análise de dados em Python. Ela fornece estruturas de dados e funções necessárias para trabalhar com tabelas de dados, como DataFrames e Series."
   ]
  },
  {
   "cell_type": "markdown",
   "metadata": {},
   "source": [
    "\n",
    "---"
   ]
  },
  {
   "cell_type": "markdown",
   "metadata": {},
   "source": [
    "##  Instalando o Pandas\n",
    "\n",
    "Para começar a usar o Pandas, você precisa instalá-lo. Você pode instalar o Pandas via pip, caso ainda não o tenha instalado:"
   ]
  },
  {
   "cell_type": "code",
   "execution_count": 1,
   "metadata": {},
   "outputs": [
    {
     "name": "stdout",
     "output_type": "stream",
     "text": [
      "Requirement already satisfied: pandas in c:\\users\\aluno manhã\\turma py ia vesp\\jupyter notebook\\pandas_apostila\\.venv\\lib\\site-packages (2.2.2)\n",
      "Requirement already satisfied: numpy>=1.26.0 in c:\\users\\aluno manhã\\turma py ia vesp\\jupyter notebook\\pandas_apostila\\.venv\\lib\\site-packages (from pandas) (2.1.0)\n",
      "Requirement already satisfied: python-dateutil>=2.8.2 in c:\\users\\aluno manhã\\turma py ia vesp\\jupyter notebook\\pandas_apostila\\.venv\\lib\\site-packages (from pandas) (2.9.0.post0)\n",
      "Requirement already satisfied: pytz>=2020.1 in c:\\users\\aluno manhã\\turma py ia vesp\\jupyter notebook\\pandas_apostila\\.venv\\lib\\site-packages (from pandas) (2024.1)\n",
      "Requirement already satisfied: tzdata>=2022.7 in c:\\users\\aluno manhã\\turma py ia vesp\\jupyter notebook\\pandas_apostila\\.venv\\lib\\site-packages (from pandas) (2024.1)\n",
      "Requirement already satisfied: six>=1.5 in c:\\users\\aluno manhã\\turma py ia vesp\\jupyter notebook\\pandas_apostila\\.venv\\lib\\site-packages (from python-dateutil>=2.8.2->pandas) (1.16.0)\n",
      "Note: you may need to restart the kernel to use updated packages.\n"
     ]
    }
   ],
   "source": [
    "pip install pandas"
   ]
  },
  {
   "cell_type": "code",
   "execution_count": 2,
   "metadata": {},
   "outputs": [
    {
     "name": "stdout",
     "output_type": "stream",
     "text": [
      "Requirement already satisfied: openpyxl in c:\\users\\aluno manhã\\turma py ia vesp\\jupyter notebook\\pandas_apostila\\.venv\\lib\\site-packages (3.1.5)Note: you may need to restart the kernel to use updated packages.\n",
      "\n",
      "Requirement already satisfied: et-xmlfile in c:\\users\\aluno manhã\\turma py ia vesp\\jupyter notebook\\pandas_apostila\\.venv\\lib\\site-packages (from openpyxl) (1.1.0)\n"
     ]
    }
   ],
   "source": [
    "pip install openpyxl"
   ]
  },
  {
   "cell_type": "markdown",
   "metadata": {},
   "source": [
    "\n",
    "---"
   ]
  },
  {
   "cell_type": "markdown",
   "metadata": {},
   "source": [
    "##  Importando a Biblioteca\n",
    "\n",
    "Uma vez que o Pandas está instalado, você precisa importá-lo para o seu código Python. Por padrão, é comum usar o alias `pd` para o Pandas:"
   ]
  },
  {
   "cell_type": "code",
   "execution_count": 3,
   "metadata": {},
   "outputs": [],
   "source": [
    "import pandas as pd"
   ]
  },
  {
   "cell_type": "markdown",
   "metadata": {},
   "source": [
    "\n",
    "---"
   ]
  },
  {
   "cell_type": "markdown",
   "metadata": {},
   "source": [
    "##  Estruturas de Dados Básicas\n",
    "\n",
    "###  Series\n",
    "\n",
    "Uma `Series` é uma estrutura de dados unidimensional, semelhante a um array ou uma lista."
   ]
  },
  {
   "cell_type": "code",
   "execution_count": 4,
   "metadata": {},
   "outputs": [
    {
     "name": "stdout",
     "output_type": "stream",
     "text": [
      "0    10\n",
      "1    20\n",
      "2    30\n",
      "3    40\n",
      "dtype: int64\n"
     ]
    }
   ],
   "source": [
    "# Criando uma Series\n",
    "data = pd.Series([10, 20, 30, 40])\n",
    "print(data)"
   ]
  },
  {
   "cell_type": "markdown",
   "metadata": {},
   "source": [
    "\n",
    "---\n"
   ]
  },
  {
   "cell_type": "markdown",
   "metadata": {},
   "source": [
    "### DataFrame\n",
    "Um `DataFrame` é uma estrutura de dados bidimensional, semelhante a uma tabela ou uma planilha do Excel.\n"
   ]
  },
  {
   "cell_type": "code",
   "execution_count": 5,
   "metadata": {},
   "outputs": [
    {
     "name": "stdout",
     "output_type": "stream",
     "text": [
      "     Nome  Idade          Cidade\n",
      "0   Maria     25       São Paulo\n",
      "1   Joana     30  Rio de Janeiro\n",
      "2  Camila     35  Belo Horizonte\n"
     ]
    }
   ],
   "source": [
    "# Criar um DataFrame\n",
    "df = pd.DataFrame({\n",
    "    'Nome': ['Maria', 'Joana', 'Camila'],\n",
    "    'Idade': [25, 30, 35],\n",
    "    'Cidade': ['São Paulo', 'Rio de Janeiro', 'Belo Horizonte']\n",
    "})\n",
    "print(df)\n"
   ]
  },
  {
   "cell_type": "markdown",
   "metadata": {},
   "source": [
    "- Ler dados de arquivos CSV, Excel, SQL, etc.\n",
    "\n",
    "`df = pd.read_csv('nome_arquivo.csv')`\n",
    "\n",
    "- Escrever dados em arquivos CSV, Excel, etc.\n",
    "\n",
    "`df.to_csv('novo_arquivo.csv', index=False)`\n",
    "\n",
    "O parâmetro index=False garante que o índice (a coluna que mostra a posição de cada linha) não será incluído no arquivo CSV.\n",
    "\n",
    "Se você usar index=True ou omitir o parâmetro, o arquivo CSV incluirá uma coluna adicional para o índice, resultando em algo assim:"
   ]
  },
  {
   "cell_type": "markdown",
   "metadata": {},
   "source": [
    "\n",
    "---"
   ]
  },
  {
   "cell_type": "markdown",
   "metadata": {},
   "source": [
    "##  Carregando Dados\n",
    "\n",
    "---\n",
    "\n",
    "###  De Arquivos CSV\n",
    "\n",
    "Você pode carregar dados de um arquivo CSV usando a função `read_csv`:\n"
   ]
  },
  {
   "cell_type": "code",
   "execution_count": null,
   "metadata": {},
   "outputs": [],
   "source": [
    "df = pd.read_csv('C:\\\\Users\\\\Aluno Manhã\\\\Documents\\\\apostila_pandas\\\\1980sClassics.csv')\n",
    "print(df.head())  # Exibe as primeiras linhas do DataFrame\n"
   ]
  },
  {
   "cell_type": "markdown",
   "metadata": {},
   "source": [
    "\n",
    "---"
   ]
  },
  {
   "cell_type": "markdown",
   "metadata": {},
   "source": [
    "###  De Arquivos Excel\n",
    "\n",
    "Para arquivos Excel, use a função `read_excel`:\n"
   ]
  },
  {
   "cell_type": "code",
   "execution_count": null,
   "metadata": {},
   "outputs": [
    {
     "name": "stdout",
     "output_type": "stream",
     "text": [
      "Arquivo encontrado.\n"
     ]
    }
   ],
   "source": [
    "import os\n",
    "\n",
    "# Path to your file\n",
    "file_path = r'C:\\\\Users\\\\Aluno Manhã\\\\Documents\\\\apostila_pandas\\\\1980sClassics.xlsx'\n",
    "\n",
    "# Check if the file exists\n",
    "if os.path.exists(file_path):\n",
    "    print(\"Arquivo encontrado.\")\n",
    "else:\n",
    "    print(\"Arquivo não encontrado.\")\n"
   ]
  },
  {
   "cell_type": "markdown",
   "metadata": {},
   "source": [
    "\n",
    "---"
   ]
  },
  {
   "cell_type": "markdown",
   "metadata": {},
   "source": [
    "##  Manipulando Dados\n",
    "\n",
    "---\n",
    "\n",
    "###  Visualizando Dados\n",
    "\n",
    "Você pode visualizar as primeiras e últimas linhas de um DataFrame com `head()` e `tail()`:"
   ]
  },
  {
   "cell_type": "code",
   "execution_count": null,
   "metadata": {},
   "outputs": [],
   "source": [
    "print(df.head())  # Primeiras 5 linhas\n",
    "print(df.tail())  # Últimas 5 linhas"
   ]
  },
  {
   "cell_type": "markdown",
   "metadata": {},
   "source": [
    "Resumo estatístico:\n",
    "\n",
    "`print(df.describe())`"
   ]
  },
  {
   "cell_type": "markdown",
   "metadata": {},
   "source": [
    "\n",
    "---"
   ]
  },
  {
   "cell_type": "markdown",
   "metadata": {},
   "source": [
    "###  Selecionando Colunas\n",
    "\n",
    "Para selecionar uma coluna específica, use a notação de colchetes:\n"
   ]
  },
  {
   "cell_type": "code",
   "execution_count": null,
   "metadata": {},
   "outputs": [],
   "source": [
    "import pandas as pd\n",
    "\n",
    "# Path to your file\n",
    "file_path = r'C:\\Users\\Aluno Manhã\\Documents\\apostila_pandas\\1980sClassics.xlsx'\n",
    "\n",
    "# Read Excel file\n",
    "df = pd.read_excel(file_path)\n",
    "\n",
    "# Print the first few rows of the DataFrame\n",
    "print(df.head())\n",
    "\n",
    "# Print specific columns\n",
    "print(df[['Track', 'Artist', 'Duration']])\n",
    "\n",
    "# Check if a column exists and print it\n",
    "column_name = 'Artist'\n",
    "if column_name in df.columns:\n",
    "    print(df[column_name])\n",
    "else:\n",
    "    print(f\"Column '{column_name}' does not exist.\")"
   ]
  },
  {
   "cell_type": "markdown",
   "metadata": {},
   "source": [
    "\n",
    "---"
   ]
  },
  {
   "cell_type": "markdown",
   "metadata": {},
   "source": [
    "###  Filtrando Dados\n",
    "\n",
    "Você pode filtrar dados com condições booleanas:\n"
   ]
  },
  {
   "cell_type": "code",
   "execution_count": null,
   "metadata": {},
   "outputs": [],
   "source": [
    "filtered_df = df[df['Year'] > 1980]\n",
    "print(filtered_df)"
   ]
  },
  {
   "cell_type": "markdown",
   "metadata": {},
   "source": [
    "\n",
    "---"
   ]
  },
  {
   "cell_type": "markdown",
   "metadata": {},
   "source": [
    "##  Manipulação Avançada\n",
    "\n",
    "---\n",
    "\n",
    "###  Agrupando Dados\n",
    "\n",
    "Você pode usar o método `groupby` para agrupar dados:\n"
   ]
  },
  {
   "cell_type": "code",
   "execution_count": null,
   "metadata": {},
   "outputs": [],
   "source": [
    "# Group by 'Track' and calculate the mean of numeric columns only\n",
    "grouped = df.select_dtypes(include=['number']).groupby(df['Track']).mean()"
   ]
  },
  {
   "cell_type": "markdown",
   "metadata": {},
   "source": [
    "\n",
    "---"
   ]
  },
  {
   "cell_type": "markdown",
   "metadata": {},
   "source": [
    "###  Mesclando DataFrames\n",
    "\n",
    "Para combinar DataFrames, você pode usar `merge`:"
   ]
  },
  {
   "cell_type": "code",
   "execution_count": null,
   "metadata": {},
   "outputs": [
    {
     "name": "stdout",
     "output_type": "stream",
     "text": [
      "   ID     Nome  Salário\n",
      "0   1    Ítalo     5000\n",
      "1   2    Pablo     6000\n",
      "2   3  Emanuel     7000\n"
     ]
    }
   ],
   "source": [
    "df1 = pd.DataFrame({'ID': [1, 2, 3], 'Nome': ['Ítalo', 'Pablo', 'Emanuel']})\n",
    "df2 = pd.DataFrame({'ID': [1, 2, 3], 'Salário': [5000, 6000, 7000]})\n",
    "merged_df = pd.merge(df1, df2, on='ID')\n",
    "print(merged_df)"
   ]
  },
  {
   "cell_type": "markdown",
   "metadata": {},
   "source": [
    "\n",
    "---"
   ]
  },
  {
   "cell_type": "markdown",
   "metadata": {},
   "source": [
    "##  Salvando Dados\n",
    "\n",
    "---\n",
    "\n",
    "###  Para CSV\n",
    "\n",
    "Para salvar um DataFrame em um arquivo CSV:"
   ]
  },
  {
   "cell_type": "code",
   "execution_count": null,
   "metadata": {},
   "outputs": [],
   "source": [
    "df.to_csv(r'C:\\Users\\Aluno Manhã\\Documents\\apostila_pandas\\Novo\\novo.csv', index=False)"
   ]
  },
  {
   "cell_type": "markdown",
   "metadata": {},
   "source": [
    "\n",
    "---"
   ]
  },
  {
   "cell_type": "markdown",
   "metadata": {},
   "source": [
    "###  Para Excel\n",
    "\n",
    "Para salvar um DataFrame em um arquivo Excel:\n"
   ]
  },
  {
   "cell_type": "code",
   "execution_count": null,
   "metadata": {},
   "outputs": [],
   "source": [
    "df.to_excel(r'C:\\Users\\Aluno Manhã\\Documents\\apostila_pandas\\Novo\\novo.xlsx', index=False)"
   ]
  },
  {
   "cell_type": "markdown",
   "metadata": {},
   "source": [
    "\n",
    "---"
   ]
  },
  {
   "cell_type": "markdown",
   "metadata": {},
   "source": [
    "##  Recursos Adicionais\n",
    "\n",
    "- [Documentação Oficial do Pandas](https://pandas.pydata.org/pandas-docs/stable/)\n",
    "- [Tutorial de Pandas no W3Schools](https://www.w3schools.com/python/pandas/default.asp)\n"
   ]
  }
 ],
 "metadata": {
  "kernelspec": {
   "display_name": "Python 3",
   "language": "python",
   "name": "python3"
  },
  "language_info": {
   "codemirror_mode": {
    "name": "ipython",
    "version": 3
   },
   "file_extension": ".py",
   "mimetype": "text/x-python",
   "name": "python",
   "nbconvert_exporter": "python",
   "pygments_lexer": "ipython3",
   "version": "3.12.5"
  }
 },
 "nbformat": 4,
 "nbformat_minor": 2
}
